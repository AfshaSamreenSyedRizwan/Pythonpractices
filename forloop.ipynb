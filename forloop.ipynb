{
 "cells": [
  {
   "cell_type": "code",
   "execution_count": 1,
   "metadata": {},
   "outputs": [
    {
     "name": "stdout",
     "output_type": "stream",
     "text": [
      "['karthik', 'shazia', 'priyanka', 'naveen', 'ravi', 'afsha', 'bhavana']\n"
     ]
    }
   ],
   "source": [
    "students=['karthik','shazia','priyanka','naveen','ravi','afsha','bhavana']\n",
    "print(students)"
   ]
  },
  {
   "cell_type": "code",
   "execution_count": 2,
   "metadata": {},
   "outputs": [
    {
     "data": {
      "text/plain": [
       "list"
      ]
     },
     "execution_count": 2,
     "metadata": {},
     "output_type": "execute_result"
    }
   ],
   "source": [
    "type(students)"
   ]
  },
  {
   "cell_type": "code",
   "execution_count": 8,
   "metadata": {},
   "outputs": [
    {
     "name": "stdout",
     "output_type": "stream",
     "text": [
      "Thank you for sending the practise files, Karthik\n"
     ]
    }
   ],
   "source": [
    "print(f\"Thank you for sending the practise files, {students[0].title()}\")"
   ]
  },
  {
   "cell_type": "code",
   "execution_count": 9,
   "metadata": {},
   "outputs": [
    {
     "name": "stdout",
     "output_type": "stream",
     "text": [
      "Thank you for sending the practise files, Shazia\n"
     ]
    }
   ],
   "source": [
    "print(f\"Thank you for sending the practise files, {students[1].title()}\")"
   ]
  },
  {
   "cell_type": "code",
   "execution_count": 11,
   "metadata": {},
   "outputs": [
    {
     "name": "stdout",
     "output_type": "stream",
     "text": [
      "keep up the goodwork, karthik\n",
      "keep up the goodwork, shazia\n",
      "keep up the goodwork, priyanka\n",
      "keep up the goodwork, naveen\n",
      "keep up the goodwork, ravi\n",
      "keep up the goodwork, afsha\n",
      "keep up the goodwork, bhavana\n"
     ]
    }
   ],
   "source": [
    "for x in students:\n",
    "    print(f\"keep up the goodwork, {x}\")"
   ]
  },
  {
   "cell_type": "code",
   "execution_count": 13,
   "metadata": {},
   "outputs": [
    {
     "name": "stdout",
     "output_type": "stream",
     "text": [
      "keep up the goodwork, karthik\n",
      "keep up the goodwork, shazia\n",
      "keep up the goodwork, priyanka\n",
      "keep up the goodwork, naveen\n",
      "keep up the goodwork, ravi\n",
      "keep up the goodwork, afsha\n",
      "keep up the goodwork, bhavana\n"
     ]
    }
   ],
   "source": [
    "for a in students:\n",
    "    print(f\"keep up the goodwork, {a}\")"
   ]
  },
  {
   "cell_type": "code",
   "execution_count": 14,
   "metadata": {},
   "outputs": [
    {
     "name": "stdout",
     "output_type": "stream",
     "text": [
      "keep up the goodwork,karthik\n",
      "I will be looking forward to recieve files of today,karthik\n",
      "keep up the goodwork,shazia\n",
      "I will be looking forward to recieve files of today,shazia\n",
      "keep up the goodwork,priyanka\n",
      "I will be looking forward to recieve files of today,priyanka\n",
      "keep up the goodwork,naveen\n",
      "I will be looking forward to recieve files of today,naveen\n",
      "keep up the goodwork,ravi\n",
      "I will be looking forward to recieve files of today,ravi\n",
      "keep up the goodwork,afsha\n",
      "I will be looking forward to recieve files of today,afsha\n",
      "keep up the goodwork,bhavana\n",
      "I will be looking forward to recieve files of today,bhavana\n"
     ]
    }
   ],
   "source": [
    "for a in students:\n",
    "    print(f\"keep up the goodwork,{a}\")\n",
    "    print(f\"I will be looking forward to recieve files of today,{a}\")"
   ]
  },
  {
   "cell_type": "code",
   "execution_count": 15,
   "metadata": {},
   "outputs": [
    {
     "name": "stdout",
     "output_type": "stream",
     "text": [
      "keep up the goodwork,karthik\n",
      "I will be looking forward to recieve files of today,karthik.\n",
      "\n",
      "keep up the goodwork,shazia\n",
      "I will be looking forward to recieve files of today,shazia.\n",
      "\n",
      "keep up the goodwork,priyanka\n",
      "I will be looking forward to recieve files of today,priyanka.\n",
      "\n",
      "keep up the goodwork,naveen\n",
      "I will be looking forward to recieve files of today,naveen.\n",
      "\n",
      "keep up the goodwork,ravi\n",
      "I will be looking forward to recieve files of today,ravi.\n",
      "\n",
      "keep up the goodwork,afsha\n",
      "I will be looking forward to recieve files of today,afsha.\n",
      "\n",
      "keep up the goodwork,bhavana\n",
      "I will be looking forward to recieve files of today,bhavana.\n",
      "\n"
     ]
    }
   ],
   "source": [
    "for a in students:\n",
    "    print(f\"keep up the goodwork,{a}\")\n",
    "    print(f\"I will be looking forward to recieve files of today,{a}.\\n\")"
   ]
  },
  {
   "cell_type": "code",
   "execution_count": 21,
   "metadata": {},
   "outputs": [
    {
     "name": "stdout",
     "output_type": "stream",
     "text": [
      "keep up the goodwork,karthik\n",
      "I will be looking forward to recieve files of today,karthik.\n",
      "\n",
      "keep up the goodwork,shazia\n",
      "I will be looking forward to recieve files of today,shazia.\n",
      "\n",
      "keep up the goodwork,priyanka\n",
      "I will be looking forward to recieve files of today,priyanka.\n",
      "\n",
      "keep up the goodwork,naveen\n",
      "I will be looking forward to recieve files of today,naveen.\n",
      "\n",
      "keep up the goodwork,ravi\n",
      "I will be looking forward to recieve files of today,ravi.\n",
      "\n",
      "keep up the goodwork,afsha\n",
      "I will be looking forward to recieve files of today,afsha.\n",
      "\n",
      "keep up the goodwork,bhavana\n",
      "I will be looking forward to recieve files of today,bhavana.\n",
      "\n",
      "Thank you all for showing interest in learning python\n"
     ]
    }
   ],
   "source": [
    "for a in students:\n",
    "    print(f\"keep up the goodwork,{a}\")\n",
    "    print(f\"I will be looking forward to recieve files of today,{a}.\\n\")\n",
    "print(\"Thank you all for showing interest in learning python\")"
   ]
  },
  {
   "cell_type": "code",
   "execution_count": 22,
   "metadata": {},
   "outputs": [
    {
     "ename": "IndentationError",
     "evalue": "expected an indented block (<ipython-input-22-5378340a5b7d>, line 2)",
     "output_type": "error",
     "traceback": [
      "\u001b[1;36m  File \u001b[1;32m\"<ipython-input-22-5378340a5b7d>\"\u001b[1;36m, line \u001b[1;32m2\u001b[0m\n\u001b[1;33m    print(f\"keep up the goodwork,{a}\")\u001b[0m\n\u001b[1;37m    ^\u001b[0m\n\u001b[1;31mIndentationError\u001b[0m\u001b[1;31m:\u001b[0m expected an indented block\n"
     ]
    }
   ],
   "source": [
    "for a in students:\n",
    "print(f\"keep up the goodwork,{a}\")\n",
    "print(f\"i will be looking forward to recieve files of today,{a}.\\n\")\n",
    "print(\"Thank you all for showing interest in learning python\")"
   ]
  },
  {
   "cell_type": "code",
   "execution_count": 24,
   "metadata": {},
   "outputs": [
    {
     "name": "stdout",
     "output_type": "stream",
     "text": [
      "[2, 4, 6, 8, 10, 12, 14, 16, 18]\n"
     ]
    }
   ],
   "source": [
    "eve_num=list(range(2,20,2))\n",
    "print(eve_num)"
   ]
  },
  {
   "cell_type": "code",
   "execution_count": null,
   "metadata": {},
   "outputs": [],
   "source": []
  }
 ],
 "metadata": {
  "kernelspec": {
   "display_name": "Python 3",
   "language": "python",
   "name": "python3"
  },
  "language_info": {
   "codemirror_mode": {
    "name": "ipython",
    "version": 3
   },
   "file_extension": ".py",
   "mimetype": "text/x-python",
   "name": "python",
   "nbconvert_exporter": "python",
   "pygments_lexer": "ipython3",
   "version": "3.8.5"
  }
 },
 "nbformat": 4,
 "nbformat_minor": 4
}

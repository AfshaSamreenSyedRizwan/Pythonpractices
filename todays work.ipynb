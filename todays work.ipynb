{
 "cells": [
  {
   "cell_type": "code",
   "execution_count": 1,
   "metadata": {},
   "outputs": [
    {
     "name": "stdout",
     "output_type": "stream",
     "text": [
      "{'color': 'green', 'points': 5, 'start_position': 0, 'current_position': 10}\n"
     ]
    }
   ],
   "source": [
    "alien={'color':'green','points':5,'start_position':0,'current_position':10}\n",
    "print(alien)"
   ]
  },
  {
   "cell_type": "code",
   "execution_count": 2,
   "metadata": {},
   "outputs": [
    {
     "data": {
      "text/plain": [
       "dict"
      ]
     },
     "execution_count": 2,
     "metadata": {},
     "output_type": "execute_result"
    }
   ],
   "source": [
    "type(alien)"
   ]
  },
  {
   "cell_type": "code",
   "execution_count": 15,
   "metadata": {},
   "outputs": [
    {
     "name": "stdout",
     "output_type": "stream",
     "text": [
      "color\n",
      "green\n",
      "points\n",
      "5\n",
      "start_position\n",
      "0\n",
      "current_position\n",
      "10\n"
     ]
    }
   ],
   "source": [
    "for a, b in alien.items():\n",
    "    print(a)\n",
    "    print(b)"
   ]
  },
  {
   "cell_type": "code",
   "execution_count": 4,
   "metadata": {},
   "outputs": [
    {
     "name": "stdout",
     "output_type": "stream",
     "text": [
      "key:color\n",
      "value:green\n",
      "\n",
      "key:points\n",
      "value:5\n",
      "\n",
      "key:start_position\n",
      "value:0\n",
      "\n",
      "key:current_position\n",
      "value:10\n",
      "\n"
     ]
    }
   ],
   "source": [
    "for a, b in alien.items():\n",
    "    print(f\"key:{a}\")\n",
    "    print(f\"value:{b}\\n\")"
   ]
  },
  {
   "cell_type": "code",
   "execution_count": 19,
   "metadata": {},
   "outputs": [
    {
     "name": "stdout",
     "output_type": "stream",
     "text": [
      "color\n",
      "points\n",
      "start_position\n",
      "current_position\n"
     ]
    }
   ],
   "source": [
    "for a in alien.keys():\n",
    "    print(a)"
   ]
  },
  {
   "cell_type": "code",
   "execution_count": 20,
   "metadata": {},
   "outputs": [
    {
     "name": "stdout",
     "output_type": "stream",
     "text": [
      "green\n",
      "5\n",
      "0\n",
      "10\n"
     ]
    }
   ],
   "source": [
    "for b in alien.values():\n",
    "    print(b)"
   ]
  },
  {
   "cell_type": "code",
   "execution_count": 22,
   "metadata": {},
   "outputs": [
    {
     "name": "stdout",
     "output_type": "stream",
     "text": [
      "you are eligible to vote\n"
     ]
    }
   ],
   "source": [
    "age=25\n",
    "if age>=18:\n",
    "    print(\"you are eligible to vote\")\n",
    "else:\n",
    "        print(\"try next year\")"
   ]
  },
  {
   "cell_type": "code",
   "execution_count": 23,
   "metadata": {},
   "outputs": [
    {
     "name": "stdout",
     "output_type": "stream",
     "text": [
      "['audi', 'benz', 'bmw', 'chverlot', 'kia', 'hyundai']\n"
     ]
    }
   ],
   "source": [
    "cars=['audi','benz','bmw','chverlot','kia','hyundai']\n",
    "print(cars)"
   ]
  },
  {
   "cell_type": "code",
   "execution_count": 25,
   "metadata": {},
   "outputs": [
    {
     "name": "stdout",
     "output_type": "stream",
     "text": [
      "Audi\n",
      "Benz\n",
      "BMW\n",
      "Chverlot\n",
      "Kia\n",
      "Hyundai\n"
     ]
    }
   ],
   "source": [
    "for x in cars:\n",
    "    if x=='bmw':\n",
    "        print(x.upper())\n",
    "    else:\n",
    "            print(x.title())"
   ]
  },
  {
   "cell_type": "code",
   "execution_count": null,
   "metadata": {},
   "outputs": [],
   "source": []
  }
 ],
 "metadata": {
  "kernelspec": {
   "display_name": "Python 3",
   "language": "python",
   "name": "python3"
  },
  "language_info": {
   "codemirror_mode": {
    "name": "ipython",
    "version": 3
   },
   "file_extension": ".py",
   "mimetype": "text/x-python",
   "name": "python",
   "nbconvert_exporter": "python",
   "pygments_lexer": "ipython3",
   "version": "3.8.5"
  }
 },
 "nbformat": 4,
 "nbformat_minor": 4
}
